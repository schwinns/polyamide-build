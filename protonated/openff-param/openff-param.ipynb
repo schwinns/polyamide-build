{
 "cells": [
  {
   "cell_type": "code",
   "execution_count": 1,
   "id": "d66cc5f3",
   "metadata": {},
   "outputs": [
    {
     "name": "stderr",
     "output_type": "stream",
     "text": [
      "Warning: Unable to load toolkit 'OpenEye Toolkit'. The Open Force Field Toolkit does not require the OpenEye Toolkits, and can use RDKit/AmberTools instead. However, if you have a valid license for the OpenEye Toolkits, consider installing them for faster performance and additional file format support: https://docs.eyesopen.com/toolkits/python/quickstart-python/linuxosx.html OpenEye offers free Toolkit licenses for academics: https://www.eyesopen.com/academic-licensing\n",
      "Warning: importing 'simtk.openmm' is deprecated.  Import 'openmm' instead.\n"
     ]
    }
   ],
   "source": [
    "try:\n",
    "    from openmm.app import PDBFile\n",
    "except ImportError:\n",
    "    from simtk.openmm.app import PDBFile\n",
    "\n",
    "from openff.toolkit.topology import Molecule, Topology\n",
    "from openff.toolkit.typing.engines.smirnoff import ForceField\n",
    "\n",
    "import parmed"
   ]
  },
  {
   "cell_type": "code",
   "execution_count": 2,
   "id": "2b5e5aea",
   "metadata": {},
   "outputs": [],
   "source": [
    "smile = \"Nc2cccc(NC(=O)c1cc(C(=O)O)cc(C(=O)O)c1)c2\"\n",
    "pdb = \"1MPD-1TMC.pdb\"\n",
    "output = \"1MPD-1TMC\""
   ]
  },
  {
   "cell_type": "code",
   "execution_count": 4,
   "id": "d21a2911",
   "metadata": {
    "scrolled": false
   },
   "outputs": [
    {
     "name": "stderr",
     "output_type": "stream",
     "text": [
      "/Users/nate_schwindt/anaconda3/envs/offtk-examples/lib/python3.9/site-packages/openmm/app/internal/pdbstructure.py:537: UserWarning: WARNING: duplicate atom (HETATM    2  C   UNL     1      -2.304   0.859  -0.169  1.00  0.00           C  , HETATM    1  C   UNL     1      -1.321   1.811  -0.476  1.00  0.00           C  )\n",
      "  warnings.warn(\"WARNING: duplicate atom (%s, %s)\" % (atom, old_atom._pdb_string(old_atom.serial_number, atom.alternate_location_indicator)))\n",
      "/Users/nate_schwindt/anaconda3/envs/offtk-examples/lib/python3.9/site-packages/openmm/app/internal/pdbstructure.py:537: UserWarning: WARNING: duplicate atom (HETATM    3  C   UNL     1       0.024   1.481  -0.295  1.00  0.00           C  , HETATM    2  C   UNL     1      -2.304   0.859  -0.169  1.00  0.00           C  )\n",
      "  warnings.warn(\"WARNING: duplicate atom (%s, %s)\" % (atom, old_atom._pdb_string(old_atom.serial_number, atom.alternate_location_indicator)))\n",
      "/Users/nate_schwindt/anaconda3/envs/offtk-examples/lib/python3.9/site-packages/openmm/app/internal/pdbstructure.py:537: UserWarning: WARNING: duplicate atom (HETATM    4  C   UNL     1       0.404   0.223   0.187  1.00  0.00           C  , HETATM    3  C   UNL     1       0.024   1.481  -0.295  1.00  0.00           C  )\n",
      "  warnings.warn(\"WARNING: duplicate atom (%s, %s)\" % (atom, old_atom._pdb_string(old_atom.serial_number, atom.alternate_location_indicator)))\n",
      "/Users/nate_schwindt/anaconda3/envs/offtk-examples/lib/python3.9/site-packages/openmm/app/internal/pdbstructure.py:537: UserWarning: WARNING: duplicate atom (HETATM    5  C   UNL     1      -0.592  -0.708   0.485  1.00  0.00           C  , HETATM    4  C   UNL     1       0.404   0.223   0.187  1.00  0.00           C  )\n",
      "  warnings.warn(\"WARNING: duplicate atom (%s, %s)\" % (atom, old_atom._pdb_string(old_atom.serial_number, atom.alternate_location_indicator)))\n",
      "/Users/nate_schwindt/anaconda3/envs/offtk-examples/lib/python3.9/site-packages/openmm/app/internal/pdbstructure.py:537: UserWarning: WARNING: duplicate atom (HETATM    6  C   UNL     1      -1.946  -0.408   0.314  1.00  0.00           C  , HETATM    5  C   UNL     1      -0.592  -0.708   0.485  1.00  0.00           C  )\n",
      "  warnings.warn(\"WARNING: duplicate atom (%s, %s)\" % (atom, old_atom._pdb_string(old_atom.serial_number, atom.alternate_location_indicator)))\n",
      "/Users/nate_schwindt/anaconda3/envs/offtk-examples/lib/python3.9/site-packages/openmm/app/internal/pdbstructure.py:537: UserWarning: WARNING: duplicate atom (HETATM    8  H   UNL     1       0.781   2.222  -0.536  1.00  0.00           H  , HETATM    7  H   UNL     1      -3.354   1.105  -0.307  1.00  0.00           H  )\n",
      "  warnings.warn(\"WARNING: duplicate atom (%s, %s)\" % (atom, old_atom._pdb_string(old_atom.serial_number, atom.alternate_location_indicator)))\n",
      "/Users/nate_schwindt/anaconda3/envs/offtk-examples/lib/python3.9/site-packages/openmm/app/internal/pdbstructure.py:537: UserWarning: WARNING: duplicate atom (HETATM    9  H   UNL     1      -0.308  -1.689   0.859  1.00  0.00           H  , HETATM    8  H   UNL     1       0.781   2.222  -0.536  1.00  0.00           H  )\n",
      "  warnings.warn(\"WARNING: duplicate atom (%s, %s)\" % (atom, old_atom._pdb_string(old_atom.serial_number, atom.alternate_location_indicator)))\n",
      "/Users/nate_schwindt/anaconda3/envs/offtk-examples/lib/python3.9/site-packages/openmm/app/internal/pdbstructure.py:537: UserWarning: WARNING: duplicate atom (HETATM   10  C   UNL     1       1.848  -0.155   0.391  1.00  0.00           C  , HETATM    6  C   UNL     1      -1.946  -0.408   0.314  1.00  0.00           C  )\n",
      "  warnings.warn(\"WARNING: duplicate atom (%s, %s)\" % (atom, old_atom._pdb_string(old_atom.serial_number, atom.alternate_location_indicator)))\n",
      "/Users/nate_schwindt/anaconda3/envs/offtk-examples/lib/python3.9/site-packages/openmm/app/internal/pdbstructure.py:537: UserWarning: WARNING: duplicate atom (HETATM   13  C   UNL     1       4.902   1.769   0.758  1.00  0.00           C  , HETATM   10  C   UNL     1       1.848  -0.155   0.391  1.00  0.00           C  )\n",
      "  warnings.warn(\"WARNING: duplicate atom (%s, %s)\" % (atom, old_atom._pdb_string(old_atom.serial_number, atom.alternate_location_indicator)))\n",
      "/Users/nate_schwindt/anaconda3/envs/offtk-examples/lib/python3.9/site-packages/openmm/app/internal/pdbstructure.py:537: UserWarning: WARNING: duplicate atom (HETATM   14  C   UNL     1       4.194   0.690   0.228  1.00  0.00           C  , HETATM   13  C   UNL     1       4.902   1.769   0.758  1.00  0.00           C  )\n",
      "  warnings.warn(\"WARNING: duplicate atom (%s, %s)\" % (atom, old_atom._pdb_string(old_atom.serial_number, atom.alternate_location_indicator)))\n",
      "/Users/nate_schwindt/anaconda3/envs/offtk-examples/lib/python3.9/site-packages/openmm/app/internal/pdbstructure.py:537: UserWarning: WARNING: duplicate atom (HETATM   15  C   UNL     1       6.289   1.708   0.876  1.00  0.00           C  , HETATM   14  C   UNL     1       4.194   0.690   0.228  1.00  0.00           C  )\n",
      "  warnings.warn(\"WARNING: duplicate atom (%s, %s)\" % (atom, old_atom._pdb_string(old_atom.serial_number, atom.alternate_location_indicator)))\n",
      "/Users/nate_schwindt/anaconda3/envs/offtk-examples/lib/python3.9/site-packages/openmm/app/internal/pdbstructure.py:537: UserWarning: WARNING: duplicate atom (HETATM   16  C   UNL     1       6.977   0.571   0.456  1.00  0.00           C  , HETATM   15  C   UNL     1       6.289   1.708   0.876  1.00  0.00           C  )\n",
      "  warnings.warn(\"WARNING: duplicate atom (%s, %s)\" % (atom, old_atom._pdb_string(old_atom.serial_number, atom.alternate_location_indicator)))\n",
      "/Users/nate_schwindt/anaconda3/envs/offtk-examples/lib/python3.9/site-packages/openmm/app/internal/pdbstructure.py:537: UserWarning: WARNING: duplicate atom (HETATM   17  C   UNL     1       6.277  -0.506  -0.086  1.00  0.00           C  , HETATM   16  C   UNL     1       6.977   0.571   0.456  1.00  0.00           C  )\n",
      "  warnings.warn(\"WARNING: duplicate atom (%s, %s)\" % (atom, old_atom._pdb_string(old_atom.serial_number, atom.alternate_location_indicator)))\n",
      "/Users/nate_schwindt/anaconda3/envs/offtk-examples/lib/python3.9/site-packages/openmm/app/internal/pdbstructure.py:537: UserWarning: WARNING: duplicate atom (HETATM   18  C   UNL     1       4.888  -0.445  -0.205  1.00  0.00           C  , HETATM   17  C   UNL     1       6.277  -0.506  -0.086  1.00  0.00           C  )\n",
      "  warnings.warn(\"WARNING: duplicate atom (%s, %s)\" % (atom, old_atom._pdb_string(old_atom.serial_number, atom.alternate_location_indicator)))\n",
      "/Users/nate_schwindt/anaconda3/envs/offtk-examples/lib/python3.9/site-packages/openmm/app/internal/pdbstructure.py:537: UserWarning: WARNING: duplicate atom (HETATM   19  H   UNL     1       4.374   2.661   1.087  1.00  0.00           H  , HETATM    9  H   UNL     1      -0.308  -1.689   0.859  1.00  0.00           H  )\n",
      "  warnings.warn(\"WARNING: duplicate atom (%s, %s)\" % (atom, old_atom._pdb_string(old_atom.serial_number, atom.alternate_location_indicator)))\n",
      "/Users/nate_schwindt/anaconda3/envs/offtk-examples/lib/python3.9/site-packages/openmm/app/internal/pdbstructure.py:537: UserWarning: WARNING: duplicate atom (HETATM   20  H   UNL     1       6.836   2.549   1.295  1.00  0.00           H  , HETATM   19  H   UNL     1       4.374   2.661   1.087  1.00  0.00           H  )\n",
      "  warnings.warn(\"WARNING: duplicate atom (%s, %s)\" % (atom, old_atom._pdb_string(old_atom.serial_number, atom.alternate_location_indicator)))\n",
      "/Users/nate_schwindt/anaconda3/envs/offtk-examples/lib/python3.9/site-packages/openmm/app/internal/pdbstructure.py:537: UserWarning: WARNING: duplicate atom (HETATM   21  H   UNL     1       8.060   0.532   0.551  1.00  0.00           H  , HETATM   20  H   UNL     1       6.836   2.549   1.295  1.00  0.00           H  )\n",
      "  warnings.warn(\"WARNING: duplicate atom (%s, %s)\" % (atom, old_atom._pdb_string(old_atom.serial_number, atom.alternate_location_indicator)))\n",
      "/Users/nate_schwindt/anaconda3/envs/offtk-examples/lib/python3.9/site-packages/openmm/app/internal/pdbstructure.py:537: UserWarning: WARNING: duplicate atom (HETATM   22  H   UNL     1       4.348  -1.282  -0.641  1.00  0.00           H  , HETATM   21  H   UNL     1       8.060   0.532   0.551  1.00  0.00           H  )\n",
      "  warnings.warn(\"WARNING: duplicate atom (%s, %s)\" % (atom, old_atom._pdb_string(old_atom.serial_number, atom.alternate_location_indicator)))\n",
      "/Users/nate_schwindt/anaconda3/envs/offtk-examples/lib/python3.9/site-packages/openmm/app/internal/pdbstructure.py:537: UserWarning: WARNING: duplicate atom (HETATM   23  H   UNL     1       2.438   1.701  -0.175  1.00  0.00           H  , HETATM   22  H   UNL     1       4.348  -1.282  -0.641  1.00  0.00           H  )\n",
      "  warnings.warn(\"WARNING: duplicate atom (%s, %s)\" % (atom, old_atom._pdb_string(old_atom.serial_number, atom.alternate_location_indicator)))\n",
      "/Users/nate_schwindt/anaconda3/envs/offtk-examples/lib/python3.9/site-packages/openmm/app/internal/pdbstructure.py:537: UserWarning: WARNING: duplicate atom (HETATM   24  C   UNL     1      -1.656   3.185  -0.998  1.00  0.00           C  , HETATM   18  C   UNL     1       4.888  -0.445  -0.205  1.00  0.00           C  )\n",
      "  warnings.warn(\"WARNING: duplicate atom (%s, %s)\" % (atom, old_atom._pdb_string(old_atom.serial_number, atom.alternate_location_indicator)))\n",
      "/Users/nate_schwindt/anaconda3/envs/offtk-examples/lib/python3.9/site-packages/openmm/app/internal/pdbstructure.py:537: UserWarning: WARNING: duplicate atom (HETATM   25  C   UNL     1      -2.964  -1.465   0.657  1.00  0.00           C  , HETATM   24  C   UNL     1      -1.656   3.185  -0.998  1.00  0.00           C  )\n",
      "  warnings.warn(\"WARNING: duplicate atom (%s, %s)\" % (atom, old_atom._pdb_string(old_atom.serial_number, atom.alternate_location_indicator)))\n",
      "/Users/nate_schwindt/anaconda3/envs/offtk-examples/lib/python3.9/site-packages/openmm/app/internal/pdbstructure.py:537: UserWarning: WARNING: duplicate atom (HETATM   26  O   UNL     1      -2.671  -2.566   1.076  1.00  0.00           O  , HETATM   11  O   UNL     1       2.175  -1.246   0.817  1.00  0.00           O  )\n",
      "  warnings.warn(\"WARNING: duplicate atom (%s, %s)\" % (atom, old_atom._pdb_string(old_atom.serial_number, atom.alternate_location_indicator)))\n",
      "/Users/nate_schwindt/anaconda3/envs/offtk-examples/lib/python3.9/site-packages/openmm/app/internal/pdbstructure.py:537: UserWarning: WARNING: duplicate atom (HETATM   27  O   UNL     1      -4.218  -1.146   0.483  1.00  0.00           O  , HETATM   26  O   UNL     1      -2.671  -2.566   1.076  1.00  0.00           O  )\n",
      "  warnings.warn(\"WARNING: duplicate atom (%s, %s)\" % (atom, old_atom._pdb_string(old_atom.serial_number, atom.alternate_location_indicator)))\n",
      "/Users/nate_schwindt/anaconda3/envs/offtk-examples/lib/python3.9/site-packages/openmm/app/internal/pdbstructure.py:537: UserWarning: WARNING: duplicate atom (HETATM   28  O   UNL     1      -0.817   4.020  -1.267  1.00  0.00           O  , HETATM   27  O   UNL     1      -4.218  -1.146   0.483  1.00  0.00           O  )\n",
      "  warnings.warn(\"WARNING: duplicate atom (%s, %s)\" % (atom, old_atom._pdb_string(old_atom.serial_number, atom.alternate_location_indicator)))\n",
      "/Users/nate_schwindt/anaconda3/envs/offtk-examples/lib/python3.9/site-packages/openmm/app/internal/pdbstructure.py:537: UserWarning: WARNING: duplicate atom (HETATM   29  O   UNL     1      -2.923   3.458  -1.154  1.00  0.00           O  , HETATM   28  O   UNL     1      -0.817   4.020  -1.267  1.00  0.00           O  )\n",
      "  warnings.warn(\"WARNING: duplicate atom (%s, %s)\" % (atom, old_atom._pdb_string(old_atom.serial_number, atom.alternate_location_indicator)))\n",
      "/Users/nate_schwindt/anaconda3/envs/offtk-examples/lib/python3.9/site-packages/openmm/app/internal/pdbstructure.py:537: UserWarning: WARNING: duplicate atom (HETATM   30  N   UNL     1       6.952  -1.617  -0.506  1.00  0.00           N  , HETATM   12  N   UNL     1       2.772   0.791   0.100  1.00  0.00           N  )\n",
      "  warnings.warn(\"WARNING: duplicate atom (%s, %s)\" % (atom, old_atom._pdb_string(old_atom.serial_number, atom.alternate_location_indicator)))\n",
      "/Users/nate_schwindt/anaconda3/envs/offtk-examples/lib/python3.9/site-packages/openmm/app/internal/pdbstructure.py:537: UserWarning: WARNING: duplicate atom (HETATM   31  H   UNL     1       7.925  -1.723  -0.242  1.00  0.00           H  , HETATM   23  H   UNL     1       2.438   1.701  -0.175  1.00  0.00           H  )\n",
      "  warnings.warn(\"WARNING: duplicate atom (%s, %s)\" % (atom, old_atom._pdb_string(old_atom.serial_number, atom.alternate_location_indicator)))\n",
      "/Users/nate_schwindt/anaconda3/envs/offtk-examples/lib/python3.9/site-packages/openmm/app/internal/pdbstructure.py:537: UserWarning: WARNING: duplicate atom (HETATM   32  H   UNL     1       6.421  -2.455  -0.717  1.00  0.00           H  , HETATM   31  H   UNL     1       7.925  -1.723  -0.242  1.00  0.00           H  )\n",
      "  warnings.warn(\"WARNING: duplicate atom (%s, %s)\" % (atom, old_atom._pdb_string(old_atom.serial_number, atom.alternate_location_indicator)))\n",
      "/Users/nate_schwindt/anaconda3/envs/offtk-examples/lib/python3.9/site-packages/openmm/app/internal/pdbstructure.py:537: UserWarning: WARNING: duplicate atom (HETATM   33  H   UNL     1      -2.956   4.375  -1.494  1.00  0.00           H  , HETATM   32  H   UNL     1       6.421  -2.455  -0.717  1.00  0.00           H  )\n",
      "  warnings.warn(\"WARNING: duplicate atom (%s, %s)\" % (atom, old_atom._pdb_string(old_atom.serial_number, atom.alternate_location_indicator)))\n",
      "/Users/nate_schwindt/anaconda3/envs/offtk-examples/lib/python3.9/site-packages/openmm/app/internal/pdbstructure.py:537: UserWarning: WARNING: duplicate atom (HETATM   34  H   UNL     1      -4.729  -1.936   0.752  1.00  0.00           H  , HETATM   33  H   UNL     1      -2.956   4.375  -1.494  1.00  0.00           H  )\n",
      "  warnings.warn(\"WARNING: duplicate atom (%s, %s)\" % (atom, old_atom._pdb_string(old_atom.serial_number, atom.alternate_location_indicator)))\n"
     ]
    }
   ],
   "source": [
    "mol = Molecule.from_smiles(smile)\n",
    "\n",
    "# Obtain the OpenMM Topology object from the PDB file.\n",
    "pdbfile = PDBFile(pdb)\n",
    "omm_topology = pdbfile.topology\n",
    "\n",
    "# Create the Open Forcefield Topology.\n",
    "off_topology = Topology.from_openmm(\n",
    "    omm_topology, unique_molecules=[mol]\n",
    ")\n",
    "\n",
    "# Load the \"Sage\" force field.\n",
    "forcefield = ForceField(\"openff_unconstrained-2.0.0.offxml\")\n",
    "omm_system = forcefield.create_openmm_system(off_topology)\n",
    "\n",
    "# Convert OpenMM System to a ParmEd structure.\n",
    "parmed_structure = parmed.openmm.load_topology(\n",
    "    omm_topology, omm_system, pdbfile.positions\n",
    ")\n",
    "\n",
    "# Export GROMACS files.\n",
    "parmed_structure.save(output + \".top\", overwrite=True)\n",
    "parmed_structure.save(output + \".gro\", overwrite=True)"
   ]
  },
  {
   "cell_type": "code",
   "execution_count": null,
   "id": "5c41e287",
   "metadata": {},
   "outputs": [],
   "source": []
  }
 ],
 "metadata": {
  "kernelspec": {
   "display_name": "Python 3 (ipykernel)",
   "language": "python",
   "name": "python3"
  },
  "language_info": {
   "codemirror_mode": {
    "name": "ipython",
    "version": 3
   },
   "file_extension": ".py",
   "mimetype": "text/x-python",
   "name": "python",
   "nbconvert_exporter": "python",
   "pygments_lexer": "ipython3",
   "version": "3.9.7"
  }
 },
 "nbformat": 4,
 "nbformat_minor": 5
}
